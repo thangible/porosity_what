{
 "cells": [
  {
   "cell_type": "code",
   "execution_count": null,
   "metadata": {},
   "outputs": [
    {
     "ename": "",
     "evalue": "",
     "output_type": "error",
     "traceback": [
      "\u001b[1;31mRunning cells with 'cat-sam (Python 3.9.21)' requires the ipykernel package.\n",
      "\u001b[1;31mRun the following command to install 'ipykernel' into the Python environment. \n",
      "\u001b[1;31mCommand: 'conda install -p c:\\Users\\phu93913\\.conda\\envs\\cat-sam ipykernel --update-deps --force-reinstall'"
     ]
    }
   ],
   "source": [
    "from torch.utils.data import Dataset"
   ]
  },
  {
   "cell_type": "code",
   "execution_count": null,
   "metadata": {},
   "outputs": [],
   "source": [
    "import os\n",
    "import pandas as pd\n",
    "# Define the path to the image directory and CSV file\n",
    "image_dir = os.path.join('..', 'data')\n",
    "csv_path = os.path.join('..', 'data', 'image_data.txt')\n",
    "\n",
    "\n",
    "\n",
    "# Read the CSV file into a pandas DataFrame\n",
    "df = pd.read_csv(csv_path, header=None, names=[\"path\", \"name\", \"magnification\", \"porosity\"])\n",
    "df[\"path\"] = df[\"path\"].str.replace(\"\\\\\", \"/\", regex=False)\n",
    "bins = [-float('inf'), 0.05, 0.10, 0.20, float('inf')]\n",
    "labels = [0, 1, 2, 3]\n",
    "df['label'] = pd.cut(df['porosity'], bins=bins, labels=labels)\n"
   ]
  },
  {
   "cell_type": "code",
   "execution_count": null,
   "metadata": {},
   "outputs": [],
   "source": []
  },
  {
   "cell_type": "code",
   "execution_count": 5,
   "metadata": {},
   "outputs": [
    {
     "data": {
      "text/html": [
       "<div>\n",
       "<style scoped>\n",
       "    .dataframe tbody tr th:only-of-type {\n",
       "        vertical-align: middle;\n",
       "    }\n",
       "\n",
       "    .dataframe tbody tr th {\n",
       "        vertical-align: top;\n",
       "    }\n",
       "\n",
       "    .dataframe thead th {\n",
       "        text-align: right;\n",
       "    }\n",
       "</style>\n",
       "<table border=\"1\" class=\"dataframe\">\n",
       "  <thead>\n",
       "    <tr style=\"text-align: right;\">\n",
       "      <th></th>\n",
       "      <th>path</th>\n",
       "      <th>name</th>\n",
       "      <th>magnification</th>\n",
       "      <th>porosity</th>\n",
       "      <th>label</th>\n",
       "    </tr>\n",
       "  </thead>\n",
       "  <tbody>\n",
       "    <tr>\n",
       "      <th>0</th>\n",
       "      <td>images/Object1.jpeg</td>\n",
       "      <td>RE-B967</td>\n",
       "      <td>50</td>\n",
       "      <td>0.01</td>\n",
       "      <td>0</td>\n",
       "    </tr>\n",
       "    <tr>\n",
       "      <th>1</th>\n",
       "      <td>images/Object2.jpeg</td>\n",
       "      <td>RE-B967</td>\n",
       "      <td>50</td>\n",
       "      <td>0.01</td>\n",
       "      <td>0</td>\n",
       "    </tr>\n",
       "    <tr>\n",
       "      <th>2</th>\n",
       "      <td>images/Object3.jpeg</td>\n",
       "      <td>RE-B967</td>\n",
       "      <td>50</td>\n",
       "      <td>0.01</td>\n",
       "      <td>0</td>\n",
       "    </tr>\n",
       "    <tr>\n",
       "      <th>3</th>\n",
       "      <td>images/Object1.jpeg</td>\n",
       "      <td>RE-B968</td>\n",
       "      <td>50</td>\n",
       "      <td>0.05</td>\n",
       "      <td>0</td>\n",
       "    </tr>\n",
       "    <tr>\n",
       "      <th>4</th>\n",
       "      <td>images/Object2.jpeg</td>\n",
       "      <td>RE-B968</td>\n",
       "      <td>50</td>\n",
       "      <td>0.06</td>\n",
       "      <td>1</td>\n",
       "    </tr>\n",
       "    <tr>\n",
       "      <th>...</th>\n",
       "      <td>...</td>\n",
       "      <td>...</td>\n",
       "      <td>...</td>\n",
       "      <td>...</td>\n",
       "      <td>...</td>\n",
       "    </tr>\n",
       "    <tr>\n",
       "      <th>131</th>\n",
       "      <td>images/8.jpeg</td>\n",
       "      <td>RE-C076</td>\n",
       "      <td>50</td>\n",
       "      <td>0.04</td>\n",
       "      <td>0</td>\n",
       "    </tr>\n",
       "    <tr>\n",
       "      <th>132</th>\n",
       "      <td>images/9.jpeg</td>\n",
       "      <td>RE-C076</td>\n",
       "      <td>50</td>\n",
       "      <td>0.03</td>\n",
       "      <td>0</td>\n",
       "    </tr>\n",
       "    <tr>\n",
       "      <th>133</th>\n",
       "      <td>images/RE-C189.bmp</td>\n",
       "      <td>RE-C189</td>\n",
       "      <td>50</td>\n",
       "      <td>0.01</td>\n",
       "      <td>0</td>\n",
       "    </tr>\n",
       "    <tr>\n",
       "      <th>134</th>\n",
       "      <td>images/RE-C190.bmp</td>\n",
       "      <td>RE-C190</td>\n",
       "      <td>50</td>\n",
       "      <td>0.02</td>\n",
       "      <td>0</td>\n",
       "    </tr>\n",
       "    <tr>\n",
       "      <th>135</th>\n",
       "      <td>images/RE-C199.bmp</td>\n",
       "      <td>RE-C199</td>\n",
       "      <td>50</td>\n",
       "      <td>0.04</td>\n",
       "      <td>0</td>\n",
       "    </tr>\n",
       "  </tbody>\n",
       "</table>\n",
       "<p>136 rows × 5 columns</p>\n",
       "</div>"
      ],
      "text/plain": [
       "                    path     name  magnification  porosity label\n",
       "0    images/Object1.jpeg  RE-B967             50      0.01     0\n",
       "1    images/Object2.jpeg  RE-B967             50      0.01     0\n",
       "2    images/Object3.jpeg  RE-B967             50      0.01     0\n",
       "3    images/Object1.jpeg  RE-B968             50      0.05     0\n",
       "4    images/Object2.jpeg  RE-B968             50      0.06     1\n",
       "..                   ...      ...            ...       ...   ...\n",
       "131        images/8.jpeg  RE-C076             50      0.04     0\n",
       "132        images/9.jpeg  RE-C076             50      0.03     0\n",
       "133   images/RE-C189.bmp  RE-C189             50      0.01     0\n",
       "134   images/RE-C190.bmp  RE-C190             50      0.02     0\n",
       "135   images/RE-C199.bmp  RE-C199             50      0.04     0\n",
       "\n",
       "[136 rows x 5 columns]"
      ]
     },
     "execution_count": 5,
     "metadata": {},
     "output_type": "execute_result"
    }
   ],
   "source": [
    "df"
   ]
  },
  {
   "cell_type": "code",
   "execution_count": 6,
   "metadata": {},
   "outputs": [
    {
     "data": {
      "image/png": "[encoded data removed]",
      "text/plain": [
       "<Figure size 800x500 with 1 Axes>"
      ]
     },
     "metadata": {},
     "output_type": "display_data"
    }
   ],
   "source": [
    "import os\n",
    "import pandas as pd\n",
    "import matplotlib.pyplot as plt\n",
    "\n",
    "# Đường dẫn tới file .txt\n",
    "csv_path = os.path.join('..', 'data', 'image_data.txt')\n",
    "\n",
    "# Đọc file\n",
    "df = pd.read_csv(csv_path, header=None, names=[\"path\", \"name\", \"magnification\", \"porosity\"])\n",
    "df[\"path\"] = df[\"path\"].str.replace(\"\\\\\", \"/\", regex=False)\n",
    "\n",
    "# Gán nhãn\n",
    "bins = [-float('inf'), 0.05, 0.10, 0.20, float('inf')]\n",
    "labels = [0, 1, 2, 3]\n",
    "df['label'] = pd.cut(df['porosity'], bins=bins, labels=labels)\n",
    "\n",
    "# Tính phân phối xác suất (PDF)\n",
    "label_counts = df['label'].value_counts(normalize=True).sort_index()\n",
    "\n",
    "# Vẽ biểu đồ\n",
    "plt.figure(figsize=(8, 5))\n",
    "label_counts.plot(kind='bar')\n",
    "plt.title('PDF of Samples by Label')\n",
    "plt.xlabel('Label')\n",
    "plt.ylabel('Probability')\n",
    "plt.xticks(rotation=0)\n",
    "plt.grid(axis='y')\n",
    "plt.tight_layout()\n",
    "plt.show()\n"
   ]
  }
 ],
 "metadata": {
  "kernelspec": {
   "display_name": "Python 3",
   "language": "python",
   "name": "python3"
  },
  "language_info": {
   "codemirror_mode": {
    "name": "ipython",
    "version": 3
   },
   "file_extension": ".py",
   "mimetype": "text/x-python",
   "name": "python",
   "nbconvert_exporter": "python",
   "pygments_lexer": "ipython3",
   "version": "3.13.1"
  }
 },
 "nbformat": 4,
 "nbformat_minor": 2
}
